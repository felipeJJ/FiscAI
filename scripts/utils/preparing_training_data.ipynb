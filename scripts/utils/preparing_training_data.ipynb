{
 "cells": [
  {
   "cell_type": "code",
   "execution_count": 6,
   "metadata": {},
   "outputs": [
    {
     "name": "stdout",
     "output_type": "stream",
     "text": [
      "[('Cerveja Budweiser American Lager Lata 473ml da marca BUDWEISER, nas categorias /Adega/Cervejas/Lager/, /Adega/Cervejas/, /Adega/, /Adega/Cervejas/Nacionais/, classificado como Toda Lista, Todos Produtos, Budweiser, Cerveja Artesanal, Ambev, Dia de Churrasco, Bebidas para o fim de semana, Ori,Bud_L8P6_14-10_31-10, em oferta por R$ 4.05.', {'entities': [(0, 43, 'PRODUCT_NAME'), (53, 62, 'BRAND'), (79, 95, 'CATEGORY'), (103, 110, 'CATEGORY'), (130, 156, 'CATEGORY'), (176, 313, 'CLUSTER'), (329, 336, 'PRICE')]}), ('Cerveja Heineken Zero Garrafa 330ml da marca HEINEKEN, nas categorias /Adega/Cervejas/Lager/, /Adega/Cervejas/, /Adega/, /Adega/Cervejas/Nacionais/, classificado como Todos Produtos, Cerveja Artesanal, Bebidas para o fim de semana, em oferta por R$ 6.29.', {'entities': [(0, 35, 'PRODUCT_NAME'), (45, 53, 'BRAND'), (70, 86, 'CATEGORY'), (94, 101, 'CATEGORY'), (121, 147, 'CATEGORY'), (167, 230, 'CLUSTER'), (246, 253, 'PRICE')]})]\n"
     ]
    }
   ],
   "source": [
    "import json\n",
    "\n",
    "# Carregar o arquivo JSON\n",
    "with open(\"../../data/processed/products_data.json\", \"r\") as file:\n",
    "    products = json.load(file)\n",
    "\n",
    "# Inicializar o conjunto de treinamento\n",
    "TRAINING_DATA = []\n",
    "\n",
    "for product in products:\n",
    "    # Extrair as informações necessárias com verificações\n",
    "    name = product.get(\"productName\", \"Produto desconhecido\")\n",
    "    brand = product.get(\"brand\", \"Marca desconhecida\")\n",
    "    categories = product.get(\"categories\", [\"Categoria desconhecida\"])\n",
    "\n",
    "    # Verificar a presença do preço com segurança\n",
    "    price = None\n",
    "    if \"sellers\" in product and product[\"sellers\"]:\n",
    "        commertial_offer = product[\"sellers\"][0].get(\"commertialOffer\")\n",
    "        if commertial_offer:\n",
    "            installment = commertial_offer.get(\"Installment\")\n",
    "            if isinstance(installment, dict):  # Verifica se Installment é um dicionário\n",
    "                price = installment.get(\"Value\")\n",
    "\n",
    "    # Verificar se productClusters existe e extrair seus valores, caso contrário usar um placeholder\n",
    "    clusters = product.get(\"productClusters\", {})\n",
    "    cluster_text = \", \".join(clusters.values()) if clusters else \"Nenhum cluster disponível\"\n",
    "    \n",
    "    # Construir a frase para treinamento, incluindo todas as categorias e ajustando a presença de preço\n",
    "    categories_text = \", \".join(categories)\n",
    "    if price is not None:\n",
    "        phrase = f\"{name} da marca {brand}, nas categorias {categories_text}, classificado como {cluster_text}, em oferta por R$ {price:.2f}.\"\n",
    "    else:\n",
    "        phrase = f\"{name} da marca {brand}, nas categorias {categories_text}, classificado como {cluster_text}.\"\n",
    "\n",
    "    # Identificar as posições das entidades na frase\n",
    "    entities = [\n",
    "        (phrase.find(name), phrase.find(name) + len(name), \"PRODUCT_NAME\"),\n",
    "        (phrase.find(brand), phrase.find(brand) + len(brand), \"BRAND\")\n",
    "    ]\n",
    "    \n",
    "    # Adicionar cada categoria individualmente como uma entidade \"CATEGORY\"\n",
    "    start_index = phrase.find(\"nas categorias\") + len(\"nas categorias \") + 1\n",
    "    for category in categories:\n",
    "        category_start = phrase.find(category, start_index)\n",
    "        if category_start != -1:\n",
    "            entities.append((category_start, category_start + len(category), \"CATEGORY\"))\n",
    "        start_index = category_start + len(category)\n",
    "\n",
    "    # Adicionar cada cluster como uma entidade \"CLUSTER\"\n",
    "    cluster_start = phrase.find(cluster_text)\n",
    "    if cluster_start != -1:\n",
    "        entities.append((cluster_start, cluster_start + len(cluster_text), \"CLUSTER\"))\n",
    "    \n",
    "    # Adicionar a entidade PRICE se o preço estiver presente\n",
    "    if price is not None:\n",
    "        price_text = f\"R$ {price:.2f}\"\n",
    "        price_start = phrase.find(price_text)\n",
    "        entities.append((price_start, price_start + len(price_text), \"PRICE\"))\n",
    "\n",
    "    # Adicionar ao conjunto de dados de treinamento\n",
    "    TRAINING_DATA.append((phrase, {\"entities\": entities}))\n",
    "\n",
    "# Exibir um exemplo do treinamento\n",
    "print(TRAINING_DATA[:2])\n"
   ]
  }
 ],
 "metadata": {
  "kernelspec": {
   "display_name": ".venv",
   "language": "python",
   "name": "python3"
  },
  "language_info": {
   "codemirror_mode": {
    "name": "ipython",
    "version": 3
   },
   "file_extension": ".py",
   "mimetype": "text/x-python",
   "name": "python",
   "nbconvert_exporter": "python",
   "pygments_lexer": "ipython3",
   "version": "3.13.0"
  }
 },
 "nbformat": 4,
 "nbformat_minor": 2
}
