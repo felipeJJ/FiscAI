{
 "cells": [
  {
   "cell_type": "code",
   "execution_count": 1,
   "metadata": {},
   "outputs": [],
   "source": [
    "from collections import Counter\n",
    "import json"
   ]
  },
  {
   "cell_type": "code",
   "execution_count": null,
   "metadata": {},
   "outputs": [
    {
     "name": "stdout",
     "output_type": "stream",
     "text": [
      "Nenhum SKU ID duplicado encontrado.\n",
      "Duplicatas removidas e versão limpa salva.\n"
     ]
    }
   ],
   "source": [
    "# REMOVE POSSÍVEIS IDS IGUAIS DA LISTA DE IDS\n",
    "\n",
    "# Nome do arquivo contendo os skuIDs\n",
    "filename = '../../data/raw/products_ids_list.json'\n",
    "\n",
    "# Função para verificar duplicatas e salvar uma versão limpa\n",
    "def check_for_duplicates(filename, remove_duplicates=False):\n",
    "    # Carregar os skuIDs do arquivo\n",
    "    with open(filename, 'r', encoding='utf-8') as file:\n",
    "        sku_ids = json.load(file)\n",
    "\n",
    "    # Contar a ocorrência de cada skuID\n",
    "    sku_count = Counter(sku_ids)\n",
    "    duplicates = {sku: count for sku, count in sku_count.items() if count > 1}\n",
    "\n",
    "    if duplicates:\n",
    "        print(\"SKU IDs duplicados encontrados:\")\n",
    "        for sku, count in duplicates.items():\n",
    "            print(f\"SKU: {sku}, Ocorrências: {count}\")\n",
    "    else:\n",
    "        print(\"Nenhum SKU ID duplicado encontrado.\")\n",
    "\n",
    "    # Opcional: remover duplicatas e salvar uma versão limpa do arquivo\n",
    "    if remove_duplicates:\n",
    "        unique_sku_ids = list(sku_count.keys())\n",
    "        with open(filename, 'w', encoding='utf-8') as file:\n",
    "            json.dump(unique_sku_ids, file, ensure_ascii=False, indent=4)\n",
    "        print(\"Duplicatas removidas e versão limpa salva.\")\n",
    "\n",
    "# Chamar a função para verificar duplicatas (defina `remove_duplicates=True` para limpar o arquivo)\n",
    "check_for_duplicates(filename, remove_duplicates=True)"
   ]
  },
  {
   "cell_type": "code",
   "execution_count": 5,
   "metadata": {},
   "outputs": [
    {
     "name": "stdout",
     "output_type": "stream",
     "text": [
      "Nenhum produto duplicado encontrado.\n",
      "Duplicatas removidas e versão limpa salva.\n"
     ]
    }
   ],
   "source": [
    "#REMOVE POSSÍVEIS PRODUTOS IGAUIS NA LISTA DE PRODUTOS\n",
    "\n",
    "# Nome do arquivo contendo os produtos\n",
    "filename = '../../data/raw/products_data.json'\n",
    "\n",
    "# Função para verificar duplicatas e salvar uma versão limpa\n",
    "def check_for_duplicates(filename, remove_duplicates=False):\n",
    "    # Carregar os produtos do arquivo\n",
    "    with open(filename, 'r', encoding='utf-8') as file:\n",
    "        products = json.load(file)\n",
    "\n",
    "    # Contar a ocorrência de cada productId\n",
    "    product_count = Counter([product['productId'] for product in products])\n",
    "    duplicates = {product_id: count for product_id, count in product_count.items() if count > 1}\n",
    "\n",
    "    if duplicates:\n",
    "        print(\"Produtos duplicados encontrados:\")\n",
    "        for product_id, count in duplicates.items():\n",
    "            print(f\"ProductId: {product_id}, Ocorrências: {count}\")\n",
    "    else:\n",
    "        print(\"Nenhum produto duplicado encontrado.\")\n",
    "\n",
    "    # Opcional: remover duplicatas e salvar uma versão limpa do arquivo\n",
    "    if remove_duplicates:\n",
    "        unique_products = []\n",
    "        seen_product_ids = set()\n",
    "\n",
    "        for product in products:\n",
    "            # Adicionar apenas o primeiro item encontrado de cada productId\n",
    "            if product['productId'] not in seen_product_ids:\n",
    "                unique_products.append(product)\n",
    "                seen_product_ids.add(product['productId'])\n",
    "\n",
    "        # Salvar a versão limpa do arquivo\n",
    "        with open('../../data/processed/products_data.json', 'w', encoding='utf-8') as file:\n",
    "            json.dump(unique_products, file, ensure_ascii=False, indent=4)\n",
    "        print(\"Duplicatas removidas e versão limpa salva.\")\n",
    "\n",
    "# Chamar a função para verificar duplicatas (defina `remove_duplicates=True` para limpar o arquivo)\n",
    "check_for_duplicates(filename, remove_duplicates=True)"
   ]
  }
 ],
 "metadata": {
  "kernelspec": {
   "display_name": ".venv",
   "language": "python",
   "name": "python3"
  },
  "language_info": {
   "codemirror_mode": {
    "name": "ipython",
    "version": 3
   },
   "file_extension": ".py",
   "mimetype": "text/x-python",
   "name": "python",
   "nbconvert_exporter": "python",
   "pygments_lexer": "ipython3",
   "version": "3.10.15"
  }
 },
 "nbformat": 4,
 "nbformat_minor": 2
}
