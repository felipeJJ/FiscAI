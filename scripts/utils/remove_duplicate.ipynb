{
 "cells": [
  {
   "cell_type": "code",
   "execution_count": null,
   "metadata": {},
   "outputs": [],
   "source": [
    "from collections import Counter\n",
    "import json"
   ]
  },
  {
   "cell_type": "code",
   "execution_count": null,
   "metadata": {},
   "outputs": [],
   "source": [
    "# Nome do arquivo contendo os skuIDs\n",
    "filename = 'lista_skuID_produtos.json'\n",
    "\n",
    "# Função para verificar duplicatas e salvar uma versão limpa\n",
    "def check_for_duplicates(filename, remove_duplicates=False):\n",
    "    # Carregar os skuIDs do arquivo\n",
    "    with open(filename, 'r', encoding='utf-8') as file:\n",
    "        sku_ids = json.load(file)\n",
    "\n",
    "    # Contar a ocorrência de cada skuID\n",
    "    sku_count = Counter(sku_ids)\n",
    "    duplicates = {sku: count for sku, count in sku_count.items() if count > 1}\n",
    "\n",
    "    if duplicates:\n",
    "        print(\"SKU IDs duplicados encontrados:\")\n",
    "        for sku, count in duplicates.items():\n",
    "            print(f\"SKU: {sku}, Ocorrências: {count}\")\n",
    "    else:\n",
    "        print(\"Nenhum SKU ID duplicado encontrado.\")\n",
    "\n",
    "    # Opcional: remover duplicatas e salvar uma versão limpa do arquivo\n",
    "    if remove_duplicates:\n",
    "        unique_sku_ids = list(sku_count.keys())\n",
    "        with open(filename, 'w', encoding='utf-8') as file:\n",
    "            json.dump(unique_sku_ids, file, ensure_ascii=False, indent=4)\n",
    "        print(\"Duplicatas removidas e versão limpa salva.\")\n",
    "\n",
    "# Chamar a função para verificar duplicatas (defina `remove_duplicates=True` para limpar o arquivo)\n",
    "check_for_duplicates(filename, remove_duplicates=True)"
   ]
  }
 ],
 "metadata": {
  "kernelspec": {
   "display_name": ".venv",
   "language": "python",
   "name": "python3"
  },
  "language_info": {
   "name": "python",
   "version": "3.13.0"
  }
 },
 "nbformat": 4,
 "nbformat_minor": 2
}
